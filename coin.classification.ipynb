{
 "cells": [
  {
   "cell_type": "code",
   "execution_count": 2,
   "id": "88b669e5",
   "metadata": {},
   "outputs": [],
   "source": [
    "\n",
    "import scipy \n",
    "import librosa\n",
    "import numpy as np\n",
    "import matplotlib.pylab as plt\n",
    "import dspfunc\n",
    "import math\n",
    "from numpy.linalg import norm\n",
    "import sounddevice as sd\n",
    "from scipy.io.wavfile import write\n",
    "import numpy as np\n",
    "from playsound3 import playsound"
   ]
  },
  {
   "cell_type": "code",
   "execution_count": null,
   "id": "5273b25b",
   "metadata": {},
   "outputs": [],
   "source": [
    "#train coin path\n",
    "train_c1_path = dspfunc.getPath(\"./train/a\",1,5)\n",
    "train_c5_path = dspfunc.getPath(\"./train/a\",5,5)\n",
    "train_c10_path = dspfunc.getPath(\"./train/a\",10,5)"
   ]
  },
  {
   "cell_type": "code",
   "execution_count": 13,
   "id": "15514976",
   "metadata": {},
   "outputs": [],
   "source": [
    "#config params\n",
    "kernal_size = (17,21)\n",
    "n_fft = 256\n",
    "hop = 32\n",
    "band_edges_hz =(5000,10000,10000,15000)\n",
    "test_path = \"./test/1.10.5.t1.mp3\"\n",
    "coin_maping = {0:\"1 bath\",1:\"5 bath\",2:\"10 bath\"}"
   ]
  },
  {
   "cell_type": "code",
   "execution_count": null,
   "id": "8b2493f4",
   "metadata": {},
   "outputs": [],
   "source": [
    "test_path = dspfunc.get_record_path(\"./test/real_test.mp3\",5)"
   ]
  },
  {
   "cell_type": "code",
   "execution_count": 20,
   "id": "b0acdb0b",
   "metadata": {},
   "outputs": [
    {
     "data": {
      "text/plain": [
       "<playsound3.playsound3.Sound at 0x7f657fe3d310>"
      ]
     },
     "execution_count": 20,
     "metadata": {},
     "output_type": "execute_result"
    }
   ],
   "source": [
    "playsound(test_path)"
   ]
  },
  {
   "cell_type": "code",
   "execution_count": null,
   "id": "76160f0e",
   "metadata": {},
   "outputs": [],
   "source": [
    "#get z score\n",
    "z_small,z_med,z_large,all_mean,all_sd = dspfunc.get_coin_train_zscore(band_edges_hz,kernal_size,n_fft,hop,train_c1_path,train_c5_path,train_c10_path)"
   ]
  },
  {
   "cell_type": "code",
   "execution_count": null,
   "id": "613a2e51",
   "metadata": {},
   "outputs": [],
   "source": [
    "test_features = dspfunc.get_coin_features(test_path,band_edges_hz,kernal_size,n_fft,hop,snr_db=None)"
   ]
  },
  {
   "cell_type": "code",
   "execution_count": null,
   "id": "a16f6c29",
   "metadata": {},
   "outputs": [
    {
     "name": "stdout",
     "output_type": "stream",
     "text": [
      "we found 1 bath, [0.151] \n",
      "we found 1 bath, [0.112] \n",
      "we found 10 bath, [4.878] \n",
      "we found 10 bath, [0.826] \n",
      "we found 5 bath, [0.41] \n",
      "we found 5 bath, [0.565] \n"
     ]
    }
   ],
   "source": [
    "for i in range(len(test_features)):\n",
    "    c,d0,d1,d2 = dspfunc.find_z_dist(test_features[i],z_small,z_med,z_large,all_mean,all_sd)\n",
    "    print(f\"we found {coin_maping[c]}, [{round(min(d0,d1,d2),3)}] \")\n",
    "    if min(d0,d1,d2) >5:\n",
    "        print(\"  | --> Possible to not be a coin sound\")"
   ]
  },
  {
   "cell_type": "code",
   "execution_count": null,
   "id": "98f7b022",
   "metadata": {},
   "outputs": [],
   "source": []
  },
  {
   "cell_type": "code",
   "execution_count": null,
   "id": "42e5396d",
   "metadata": {},
   "outputs": [],
   "source": []
  }
 ],
 "metadata": {
  "kernelspec": {
   "display_name": "dsp_env",
   "language": "python",
   "name": "python3"
  },
  "language_info": {
   "codemirror_mode": {
    "name": "ipython",
    "version": 3
   },
   "file_extension": ".py",
   "mimetype": "text/x-python",
   "name": "python",
   "nbconvert_exporter": "python",
   "pygments_lexer": "ipython3",
   "version": "3.13.7"
  }
 },
 "nbformat": 4,
 "nbformat_minor": 5
}
